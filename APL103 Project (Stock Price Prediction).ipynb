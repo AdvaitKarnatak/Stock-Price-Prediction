{
 "cells": [
  {
   "cell_type": "code",
   "execution_count": 1,
   "id": "92b26331",
   "metadata": {},
   "outputs": [],
   "source": [
    "import pandas as pd\n",
    "import numpy as np\n",
    "import matplotlib.pyplot as plt\n",
    "%matplotlib inline"
   ]
  },
  {
   "cell_type": "code",
   "execution_count": 2,
   "id": "fa34fb43",
   "metadata": {},
   "outputs": [],
   "source": [
    "hdfc = pd.read_csv(\"HDFCBANK.csv\")"
   ]
  },
  {
   "cell_type": "code",
   "execution_count": 3,
   "id": "e9343e59",
   "metadata": {},
   "outputs": [
    {
     "data": {
      "text/html": [
       "<div>\n",
       "<style scoped>\n",
       "    .dataframe tbody tr th:only-of-type {\n",
       "        vertical-align: middle;\n",
       "    }\n",
       "\n",
       "    .dataframe tbody tr th {\n",
       "        vertical-align: top;\n",
       "    }\n",
       "\n",
       "    .dataframe thead th {\n",
       "        text-align: right;\n",
       "    }\n",
       "</style>\n",
       "<table border=\"1\" class=\"dataframe\">\n",
       "  <thead>\n",
       "    <tr style=\"text-align: right;\">\n",
       "      <th></th>\n",
       "      <th>Date</th>\n",
       "      <th>Symbol</th>\n",
       "      <th>Series</th>\n",
       "      <th>Prev Close</th>\n",
       "      <th>Open</th>\n",
       "      <th>High</th>\n",
       "      <th>Low</th>\n",
       "      <th>Last</th>\n",
       "      <th>Close</th>\n",
       "      <th>VWAP</th>\n",
       "      <th>Volume</th>\n",
       "      <th>Turnover</th>\n",
       "      <th>Trades</th>\n",
       "      <th>Deliverable Volume</th>\n",
       "      <th>%Deliverble</th>\n",
       "    </tr>\n",
       "  </thead>\n",
       "  <tbody>\n",
       "    <tr>\n",
       "      <th>0</th>\n",
       "      <td>2000-01-03</td>\n",
       "      <td>HDFCBANK</td>\n",
       "      <td>EQ</td>\n",
       "      <td>157.40</td>\n",
       "      <td>166.00</td>\n",
       "      <td>170.00</td>\n",
       "      <td>166.00</td>\n",
       "      <td>170.00</td>\n",
       "      <td>170.00</td>\n",
       "      <td>169.52</td>\n",
       "      <td>33259</td>\n",
       "      <td>5.638122e+11</td>\n",
       "      <td>NaN</td>\n",
       "      <td>NaN</td>\n",
       "      <td>NaN</td>\n",
       "    </tr>\n",
       "    <tr>\n",
       "      <th>1</th>\n",
       "      <td>2000-01-04</td>\n",
       "      <td>HDFCBANK</td>\n",
       "      <td>EQ</td>\n",
       "      <td>170.00</td>\n",
       "      <td>182.00</td>\n",
       "      <td>183.45</td>\n",
       "      <td>171.00</td>\n",
       "      <td>174.00</td>\n",
       "      <td>173.80</td>\n",
       "      <td>174.99</td>\n",
       "      <td>168710</td>\n",
       "      <td>2.952261e+12</td>\n",
       "      <td>NaN</td>\n",
       "      <td>NaN</td>\n",
       "      <td>NaN</td>\n",
       "    </tr>\n",
       "    <tr>\n",
       "      <th>2</th>\n",
       "      <td>2000-01-05</td>\n",
       "      <td>HDFCBANK</td>\n",
       "      <td>EQ</td>\n",
       "      <td>173.80</td>\n",
       "      <td>170.00</td>\n",
       "      <td>173.90</td>\n",
       "      <td>165.00</td>\n",
       "      <td>168.00</td>\n",
       "      <td>166.95</td>\n",
       "      <td>169.20</td>\n",
       "      <td>159820</td>\n",
       "      <td>2.704094e+12</td>\n",
       "      <td>NaN</td>\n",
       "      <td>NaN</td>\n",
       "      <td>NaN</td>\n",
       "    </tr>\n",
       "    <tr>\n",
       "      <th>3</th>\n",
       "      <td>2000-01-06</td>\n",
       "      <td>HDFCBANK</td>\n",
       "      <td>EQ</td>\n",
       "      <td>166.95</td>\n",
       "      <td>168.00</td>\n",
       "      <td>170.00</td>\n",
       "      <td>165.30</td>\n",
       "      <td>168.95</td>\n",
       "      <td>168.30</td>\n",
       "      <td>168.44</td>\n",
       "      <td>85026</td>\n",
       "      <td>1.432166e+12</td>\n",
       "      <td>NaN</td>\n",
       "      <td>NaN</td>\n",
       "      <td>NaN</td>\n",
       "    </tr>\n",
       "    <tr>\n",
       "      <th>4</th>\n",
       "      <td>2000-01-07</td>\n",
       "      <td>HDFCBANK</td>\n",
       "      <td>EQ</td>\n",
       "      <td>168.30</td>\n",
       "      <td>162.15</td>\n",
       "      <td>171.00</td>\n",
       "      <td>162.15</td>\n",
       "      <td>170.75</td>\n",
       "      <td>168.35</td>\n",
       "      <td>166.79</td>\n",
       "      <td>85144</td>\n",
       "      <td>1.420158e+12</td>\n",
       "      <td>NaN</td>\n",
       "      <td>NaN</td>\n",
       "      <td>NaN</td>\n",
       "    </tr>\n",
       "  </tbody>\n",
       "</table>\n",
       "</div>"
      ],
      "text/plain": [
       "         Date    Symbol Series  Prev Close    Open    High     Low    Last  \\\n",
       "0  2000-01-03  HDFCBANK     EQ      157.40  166.00  170.00  166.00  170.00   \n",
       "1  2000-01-04  HDFCBANK     EQ      170.00  182.00  183.45  171.00  174.00   \n",
       "2  2000-01-05  HDFCBANK     EQ      173.80  170.00  173.90  165.00  168.00   \n",
       "3  2000-01-06  HDFCBANK     EQ      166.95  168.00  170.00  165.30  168.95   \n",
       "4  2000-01-07  HDFCBANK     EQ      168.30  162.15  171.00  162.15  170.75   \n",
       "\n",
       "    Close    VWAP  Volume      Turnover  Trades  Deliverable Volume  \\\n",
       "0  170.00  169.52   33259  5.638122e+11     NaN                 NaN   \n",
       "1  173.80  174.99  168710  2.952261e+12     NaN                 NaN   \n",
       "2  166.95  169.20  159820  2.704094e+12     NaN                 NaN   \n",
       "3  168.30  168.44   85026  1.432166e+12     NaN                 NaN   \n",
       "4  168.35  166.79   85144  1.420158e+12     NaN                 NaN   \n",
       "\n",
       "   %Deliverble  \n",
       "0          NaN  \n",
       "1          NaN  \n",
       "2          NaN  \n",
       "3          NaN  \n",
       "4          NaN  "
      ]
     },
     "execution_count": 3,
     "metadata": {},
     "output_type": "execute_result"
    }
   ],
   "source": [
    "hdfc.head()"
   ]
  },
  {
   "cell_type": "code",
   "execution_count": 4,
   "id": "34e55337",
   "metadata": {},
   "outputs": [
    {
     "data": {
      "text/html": [
       "<div>\n",
       "<style scoped>\n",
       "    .dataframe tbody tr th:only-of-type {\n",
       "        vertical-align: middle;\n",
       "    }\n",
       "\n",
       "    .dataframe tbody tr th {\n",
       "        vertical-align: top;\n",
       "    }\n",
       "\n",
       "    .dataframe thead th {\n",
       "        text-align: right;\n",
       "    }\n",
       "</style>\n",
       "<table border=\"1\" class=\"dataframe\">\n",
       "  <thead>\n",
       "    <tr style=\"text-align: right;\">\n",
       "      <th></th>\n",
       "      <th>Prev Close</th>\n",
       "      <th>Open</th>\n",
       "      <th>High</th>\n",
       "      <th>Low</th>\n",
       "      <th>Last</th>\n",
       "      <th>Close</th>\n",
       "      <th>VWAP</th>\n",
       "      <th>Volume</th>\n",
       "      <th>Turnover</th>\n",
       "      <th>Trades</th>\n",
       "      <th>Deliverable Volume</th>\n",
       "      <th>%Deliverble</th>\n",
       "    </tr>\n",
       "  </thead>\n",
       "  <tbody>\n",
       "    <tr>\n",
       "      <th>count</th>\n",
       "      <td>5306.000000</td>\n",
       "      <td>5306.000000</td>\n",
       "      <td>5306.000000</td>\n",
       "      <td>5306.000000</td>\n",
       "      <td>5306.000000</td>\n",
       "      <td>5306.000000</td>\n",
       "      <td>5306.000000</td>\n",
       "      <td>5.306000e+03</td>\n",
       "      <td>5.306000e+03</td>\n",
       "      <td>2456.000000</td>\n",
       "      <td>4.797000e+03</td>\n",
       "      <td>4797.000000</td>\n",
       "    </tr>\n",
       "    <tr>\n",
       "      <th>mean</th>\n",
       "      <td>1007.093884</td>\n",
       "      <td>1007.472767</td>\n",
       "      <td>1019.986939</td>\n",
       "      <td>993.822211</td>\n",
       "      <td>1007.364003</td>\n",
       "      <td>1007.330390</td>\n",
       "      <td>1006.929263</td>\n",
       "      <td>2.102580e+06</td>\n",
       "      <td>2.448837e+14</td>\n",
       "      <td>82923.625407</td>\n",
       "      <td>1.261883e+06</td>\n",
       "      <td>0.595003</td>\n",
       "    </tr>\n",
       "    <tr>\n",
       "      <th>std</th>\n",
       "      <td>635.757762</td>\n",
       "      <td>635.461516</td>\n",
       "      <td>641.444674</td>\n",
       "      <td>629.502818</td>\n",
       "      <td>635.722752</td>\n",
       "      <td>635.675021</td>\n",
       "      <td>635.481917</td>\n",
       "      <td>3.970048e+06</td>\n",
       "      <td>4.778103e+14</td>\n",
       "      <td>93575.061741</td>\n",
       "      <td>2.070127e+06</td>\n",
       "      <td>0.121337</td>\n",
       "    </tr>\n",
       "    <tr>\n",
       "      <th>min</th>\n",
       "      <td>157.400000</td>\n",
       "      <td>162.150000</td>\n",
       "      <td>167.900000</td>\n",
       "      <td>157.000000</td>\n",
       "      <td>163.000000</td>\n",
       "      <td>163.400000</td>\n",
       "      <td>161.400000</td>\n",
       "      <td>1.042000e+03</td>\n",
       "      <td>2.291142e+10</td>\n",
       "      <td>807.000000</td>\n",
       "      <td>4.631000e+03</td>\n",
       "      <td>0.177900</td>\n",
       "    </tr>\n",
       "    <tr>\n",
       "      <th>25%</th>\n",
       "      <td>479.912500</td>\n",
       "      <td>482.112500</td>\n",
       "      <td>486.912500</td>\n",
       "      <td>473.100000</td>\n",
       "      <td>480.700000</td>\n",
       "      <td>480.200000</td>\n",
       "      <td>479.512500</td>\n",
       "      <td>3.058325e+05</td>\n",
       "      <td>1.640025e+13</td>\n",
       "      <td>26850.500000</td>\n",
       "      <td>2.624830e+05</td>\n",
       "      <td>0.517800</td>\n",
       "    </tr>\n",
       "    <tr>\n",
       "      <th>50%</th>\n",
       "      <td>934.750000</td>\n",
       "      <td>939.350000</td>\n",
       "      <td>953.950000</td>\n",
       "      <td>922.175000</td>\n",
       "      <td>935.600000</td>\n",
       "      <td>935.725000</td>\n",
       "      <td>937.455000</td>\n",
       "      <td>9.444650e+05</td>\n",
       "      <td>1.150443e+14</td>\n",
       "      <td>44227.000000</td>\n",
       "      <td>6.271970e+05</td>\n",
       "      <td>0.600200</td>\n",
       "    </tr>\n",
       "    <tr>\n",
       "      <th>75%</th>\n",
       "      <td>1421.000000</td>\n",
       "      <td>1423.525000</td>\n",
       "      <td>1440.000000</td>\n",
       "      <td>1399.000000</td>\n",
       "      <td>1422.812500</td>\n",
       "      <td>1421.000000</td>\n",
       "      <td>1420.567500</td>\n",
       "      <td>2.123647e+06</td>\n",
       "      <td>2.154477e+14</td>\n",
       "      <td>104139.250000</td>\n",
       "      <td>1.433151e+06</td>\n",
       "      <td>0.674000</td>\n",
       "    </tr>\n",
       "    <tr>\n",
       "      <th>max</th>\n",
       "      <td>2565.800000</td>\n",
       "      <td>2566.000000</td>\n",
       "      <td>2583.300000</td>\n",
       "      <td>2553.700000</td>\n",
       "      <td>2563.000000</td>\n",
       "      <td>2565.800000</td>\n",
       "      <td>2570.700000</td>\n",
       "      <td>1.005650e+08</td>\n",
       "      <td>1.426400e+16</td>\n",
       "      <td>790631.000000</td>\n",
       "      <td>6.669683e+07</td>\n",
       "      <td>1.000000</td>\n",
       "    </tr>\n",
       "  </tbody>\n",
       "</table>\n",
       "</div>"
      ],
      "text/plain": [
       "        Prev Close         Open         High          Low         Last  \\\n",
       "count  5306.000000  5306.000000  5306.000000  5306.000000  5306.000000   \n",
       "mean   1007.093884  1007.472767  1019.986939   993.822211  1007.364003   \n",
       "std     635.757762   635.461516   641.444674   629.502818   635.722752   \n",
       "min     157.400000   162.150000   167.900000   157.000000   163.000000   \n",
       "25%     479.912500   482.112500   486.912500   473.100000   480.700000   \n",
       "50%     934.750000   939.350000   953.950000   922.175000   935.600000   \n",
       "75%    1421.000000  1423.525000  1440.000000  1399.000000  1422.812500   \n",
       "max    2565.800000  2566.000000  2583.300000  2553.700000  2563.000000   \n",
       "\n",
       "             Close         VWAP        Volume      Turnover         Trades  \\\n",
       "count  5306.000000  5306.000000  5.306000e+03  5.306000e+03    2456.000000   \n",
       "mean   1007.330390  1006.929263  2.102580e+06  2.448837e+14   82923.625407   \n",
       "std     635.675021   635.481917  3.970048e+06  4.778103e+14   93575.061741   \n",
       "min     163.400000   161.400000  1.042000e+03  2.291142e+10     807.000000   \n",
       "25%     480.200000   479.512500  3.058325e+05  1.640025e+13   26850.500000   \n",
       "50%     935.725000   937.455000  9.444650e+05  1.150443e+14   44227.000000   \n",
       "75%    1421.000000  1420.567500  2.123647e+06  2.154477e+14  104139.250000   \n",
       "max    2565.800000  2570.700000  1.005650e+08  1.426400e+16  790631.000000   \n",
       "\n",
       "       Deliverable Volume  %Deliverble  \n",
       "count        4.797000e+03  4797.000000  \n",
       "mean         1.261883e+06     0.595003  \n",
       "std          2.070127e+06     0.121337  \n",
       "min          4.631000e+03     0.177900  \n",
       "25%          2.624830e+05     0.517800  \n",
       "50%          6.271970e+05     0.600200  \n",
       "75%          1.433151e+06     0.674000  \n",
       "max          6.669683e+07     1.000000  "
      ]
     },
     "execution_count": 4,
     "metadata": {},
     "output_type": "execute_result"
    }
   ],
   "source": [
    "hdfc.describe()"
   ]
  },
  {
   "cell_type": "code",
   "execution_count": 5,
   "id": "6fdf1293",
   "metadata": {},
   "outputs": [
    {
     "name": "stdout",
     "output_type": "stream",
     "text": [
      "<class 'pandas.core.frame.DataFrame'>\n",
      "RangeIndex: 5306 entries, 0 to 5305\n",
      "Data columns (total 15 columns):\n",
      " #   Column              Non-Null Count  Dtype  \n",
      "---  ------              --------------  -----  \n",
      " 0   Date                5306 non-null   object \n",
      " 1   Symbol              5306 non-null   object \n",
      " 2   Series              5306 non-null   object \n",
      " 3   Prev Close          5306 non-null   float64\n",
      " 4   Open                5306 non-null   float64\n",
      " 5   High                5306 non-null   float64\n",
      " 6   Low                 5306 non-null   float64\n",
      " 7   Last                5306 non-null   float64\n",
      " 8   Close               5306 non-null   float64\n",
      " 9   VWAP                5306 non-null   float64\n",
      " 10  Volume              5306 non-null   int64  \n",
      " 11  Turnover            5306 non-null   float64\n",
      " 12  Trades              2456 non-null   float64\n",
      " 13  Deliverable Volume  4797 non-null   float64\n",
      " 14  %Deliverble         4797 non-null   float64\n",
      "dtypes: float64(11), int64(1), object(3)\n",
      "memory usage: 621.9+ KB\n"
     ]
    }
   ],
   "source": [
    "hdfc.info()"
   ]
  },
  {
   "cell_type": "code",
   "execution_count": 6,
   "id": "c9f71b99",
   "metadata": {},
   "outputs": [
    {
     "data": {
      "text/plain": [
       "Date                     0\n",
       "Symbol                   0\n",
       "Series                   0\n",
       "Prev Close               0\n",
       "Open                     0\n",
       "High                     0\n",
       "Low                      0\n",
       "Last                     0\n",
       "Close                    0\n",
       "VWAP                     0\n",
       "Volume                   0\n",
       "Turnover                 0\n",
       "Trades                2850\n",
       "Deliverable Volume     509\n",
       "%Deliverble            509\n",
       "dtype: int64"
      ]
     },
     "execution_count": 6,
     "metadata": {},
     "output_type": "execute_result"
    }
   ],
   "source": [
    "hdfc.isnull().sum()"
   ]
  },
  {
   "cell_type": "code",
   "execution_count": 7,
   "id": "e667cd3f",
   "metadata": {},
   "outputs": [],
   "source": [
    "columns_to_drop = [\"Symbol\", \"Series\", \"Trades\", \"Deliverable Volume\", \"%Deliverble\"]\n",
    "hdfc = hdfc.drop(columns=columns_to_drop)"
   ]
  },
  {
   "cell_type": "code",
   "execution_count": 8,
   "id": "a4b67121",
   "metadata": {},
   "outputs": [
    {
     "data": {
      "text/plain": [
       "Date          0\n",
       "Prev Close    0\n",
       "Open          0\n",
       "High          0\n",
       "Low           0\n",
       "Last          0\n",
       "Close         0\n",
       "VWAP          0\n",
       "Volume        0\n",
       "Turnover      0\n",
       "dtype: int64"
      ]
     },
     "execution_count": 8,
     "metadata": {},
     "output_type": "execute_result"
    }
   ],
   "source": [
    "hdfc.isnull().sum()"
   ]
  },
  {
   "cell_type": "code",
   "execution_count": 9,
   "id": "83d9ce68",
   "metadata": {},
   "outputs": [
    {
     "name": "stdout",
     "output_type": "stream",
     "text": [
      "<class 'pandas.core.frame.DataFrame'>\n",
      "RangeIndex: 5353 entries, 0 to 5352\n",
      "Data columns (total 10 columns):\n",
      " #   Column     Non-Null Count  Dtype  \n",
      "---  ------     --------------  -----  \n",
      " 0   Date       5353 non-null   object \n",
      " 1   Open       5353 non-null   float64\n",
      " 2   High       5353 non-null   float64\n",
      " 3   Low        5353 non-null   float64\n",
      " 4   Close      5353 non-null   float64\n",
      " 5   Volume     5353 non-null   int64  \n",
      " 6   Turnover   5353 non-null   float64\n",
      " 7   P/E        5353 non-null   float64\n",
      " 8   P/B        5353 non-null   float64\n",
      " 9   Div Yield  5353 non-null   float64\n",
      "dtypes: float64(8), int64(1), object(1)\n",
      "memory usage: 418.3+ KB\n"
     ]
    }
   ],
   "source": [
    "nifty = pd.read_csv('NIFTY 50.csv')\n",
    "nifty.info()"
   ]
  },
  {
   "cell_type": "code",
   "execution_count": 10,
   "id": "3cdf7404",
   "metadata": {},
   "outputs": [],
   "source": [
    "nifty=nifty[nifty['Date'] <= '2021-04-30']"
   ]
  },
  {
   "cell_type": "code",
   "execution_count": 11,
   "id": "57da604b",
   "metadata": {},
   "outputs": [
    {
     "name": "stdout",
     "output_type": "stream",
     "text": [
      "<class 'pandas.core.frame.DataFrame'>\n",
      "Index: 5306 entries, 0 to 5305\n",
      "Data columns (total 10 columns):\n",
      " #   Column     Non-Null Count  Dtype  \n",
      "---  ------     --------------  -----  \n",
      " 0   Date       5306 non-null   object \n",
      " 1   Open       5306 non-null   float64\n",
      " 2   High       5306 non-null   float64\n",
      " 3   Low        5306 non-null   float64\n",
      " 4   Close      5306 non-null   float64\n",
      " 5   Volume     5306 non-null   int64  \n",
      " 6   Turnover   5306 non-null   float64\n",
      " 7   P/E        5306 non-null   float64\n",
      " 8   P/B        5306 non-null   float64\n",
      " 9   Div Yield  5306 non-null   float64\n",
      "dtypes: float64(8), int64(1), object(1)\n",
      "memory usage: 456.0+ KB\n"
     ]
    }
   ],
   "source": [
    "nifty.info()"
   ]
  },
  {
   "cell_type": "code",
   "execution_count": 12,
   "id": "41edc606",
   "metadata": {},
   "outputs": [],
   "source": [
    "nifty['Nifty_Price_Difference %'] = ((nifty['Close'] - nifty['Open'])*100)/nifty['Open']\n",
    "nifty['High/Low'] = ((nifty['High'])/nifty['Low'])\n",
    "\n",
    "hdfc = hdfc.merge(nifty[['Date', 'High/Low']], on='Date', how='left')\n",
    "hdfc['Lagged_High/Low'] = hdfc['High/Low'].shift(1)\n",
    "hdfc=hdfc.drop(\"High/Low\", axis=1)\n",
    "hdfc['Final_High_Low'] = (hdfc['Lagged_High/Low'] * hdfc['Open'])\n",
    "hdfc=hdfc.drop(\"Lagged_High/Low\", axis=1)"
   ]
  },
  {
   "cell_type": "code",
   "execution_count": 13,
   "id": "907119f0",
   "metadata": {},
   "outputs": [],
   "source": [
    "hdfc = pd.merge(hdfc, nifty[['Date', 'Nifty_Price_Difference %']], on='Date', how='left')\n",
    "hdfc = pd.merge(hdfc, nifty[['Date', 'Open']], on='Date', how='left')\n",
    "\n",
    "hdfc = hdfc.dropna()"
   ]
  },
  {
   "cell_type": "code",
   "execution_count": 14,
   "id": "c6913110",
   "metadata": {},
   "outputs": [
    {
     "data": {
      "text/html": [
       "<div>\n",
       "<style scoped>\n",
       "    .dataframe tbody tr th:only-of-type {\n",
       "        vertical-align: middle;\n",
       "    }\n",
       "\n",
       "    .dataframe tbody tr th {\n",
       "        vertical-align: top;\n",
       "    }\n",
       "\n",
       "    .dataframe thead th {\n",
       "        text-align: right;\n",
       "    }\n",
       "</style>\n",
       "<table border=\"1\" class=\"dataframe\">\n",
       "  <thead>\n",
       "    <tr style=\"text-align: right;\">\n",
       "      <th></th>\n",
       "      <th>Date</th>\n",
       "      <th>Prev Close</th>\n",
       "      <th>Open_x</th>\n",
       "      <th>High</th>\n",
       "      <th>Low</th>\n",
       "      <th>Last</th>\n",
       "      <th>Close</th>\n",
       "      <th>VWAP</th>\n",
       "      <th>Volume</th>\n",
       "      <th>Turnover</th>\n",
       "      <th>Final_High_Low</th>\n",
       "      <th>Nifty_Price_Difference %</th>\n",
       "      <th>Open_y</th>\n",
       "    </tr>\n",
       "  </thead>\n",
       "  <tbody>\n",
       "    <tr>\n",
       "      <th>1</th>\n",
       "      <td>2000-01-04</td>\n",
       "      <td>170.00</td>\n",
       "      <td>182.00</td>\n",
       "      <td>183.45</td>\n",
       "      <td>171.00</td>\n",
       "      <td>174.00</td>\n",
       "      <td>173.80</td>\n",
       "      <td>174.99</td>\n",
       "      <td>168710</td>\n",
       "      <td>2.952261e+12</td>\n",
       "      <td>195.599501</td>\n",
       "      <td>2.778475</td>\n",
       "      <td>1594.40</td>\n",
       "    </tr>\n",
       "    <tr>\n",
       "      <th>2</th>\n",
       "      <td>2000-01-05</td>\n",
       "      <td>173.80</td>\n",
       "      <td>170.00</td>\n",
       "      <td>173.90</td>\n",
       "      <td>165.00</td>\n",
       "      <td>168.00</td>\n",
       "      <td>166.95</td>\n",
       "      <td>169.20</td>\n",
       "      <td>159820</td>\n",
       "      <td>2.704094e+12</td>\n",
       "      <td>175.069932</td>\n",
       "      <td>-2.370683</td>\n",
       "      <td>1634.55</td>\n",
       "    </tr>\n",
       "    <tr>\n",
       "      <th>3</th>\n",
       "      <td>2000-01-06</td>\n",
       "      <td>166.95</td>\n",
       "      <td>168.00</td>\n",
       "      <td>170.00</td>\n",
       "      <td>165.30</td>\n",
       "      <td>168.95</td>\n",
       "      <td>168.30</td>\n",
       "      <td>168.44</td>\n",
       "      <td>85026</td>\n",
       "      <td>1.432166e+12</td>\n",
       "      <td>176.691425</td>\n",
       "      <td>1.366086</td>\n",
       "      <td>1595.80</td>\n",
       "    </tr>\n",
       "    <tr>\n",
       "      <th>4</th>\n",
       "      <td>2000-01-07</td>\n",
       "      <td>168.30</td>\n",
       "      <td>162.15</td>\n",
       "      <td>171.00</td>\n",
       "      <td>162.15</td>\n",
       "      <td>170.75</td>\n",
       "      <td>168.35</td>\n",
       "      <td>166.79</td>\n",
       "      <td>85144</td>\n",
       "      <td>1.420158e+12</td>\n",
       "      <td>166.539573</td>\n",
       "      <td>-0.204132</td>\n",
       "      <td>1616.60</td>\n",
       "    </tr>\n",
       "    <tr>\n",
       "      <th>5</th>\n",
       "      <td>2000-01-10</td>\n",
       "      <td>168.35</td>\n",
       "      <td>172.90</td>\n",
       "      <td>179.50</td>\n",
       "      <td>165.00</td>\n",
       "      <td>166.30</td>\n",
       "      <td>165.90</td>\n",
       "      <td>167.79</td>\n",
       "      <td>100434</td>\n",
       "      <td>1.685217e+12</td>\n",
       "      <td>176.261223</td>\n",
       "      <td>1.070776</td>\n",
       "      <td>1615.65</td>\n",
       "    </tr>\n",
       "  </tbody>\n",
       "</table>\n",
       "</div>"
      ],
      "text/plain": [
       "         Date  Prev Close  Open_x    High     Low    Last   Close    VWAP  \\\n",
       "1  2000-01-04      170.00  182.00  183.45  171.00  174.00  173.80  174.99   \n",
       "2  2000-01-05      173.80  170.00  173.90  165.00  168.00  166.95  169.20   \n",
       "3  2000-01-06      166.95  168.00  170.00  165.30  168.95  168.30  168.44   \n",
       "4  2000-01-07      168.30  162.15  171.00  162.15  170.75  168.35  166.79   \n",
       "5  2000-01-10      168.35  172.90  179.50  165.00  166.30  165.90  167.79   \n",
       "\n",
       "   Volume      Turnover  Final_High_Low  Nifty_Price_Difference %   Open_y  \n",
       "1  168710  2.952261e+12      195.599501                  2.778475  1594.40  \n",
       "2  159820  2.704094e+12      175.069932                 -2.370683  1634.55  \n",
       "3   85026  1.432166e+12      176.691425                  1.366086  1595.80  \n",
       "4   85144  1.420158e+12      166.539573                 -0.204132  1616.60  \n",
       "5  100434  1.685217e+12      176.261223                  1.070776  1615.65  "
      ]
     },
     "execution_count": 14,
     "metadata": {},
     "output_type": "execute_result"
    }
   ],
   "source": [
    "hdfc.head()"
   ]
  },
  {
   "cell_type": "code",
   "execution_count": 15,
   "id": "1b2a1089",
   "metadata": {},
   "outputs": [],
   "source": [
    "hdfc = hdfc.drop('Date', axis=1)"
   ]
  },
  {
   "cell_type": "code",
   "execution_count": 16,
   "id": "07ddf154",
   "metadata": {},
   "outputs": [
    {
     "data": {
      "text/html": [
       "<div>\n",
       "<style scoped>\n",
       "    .dataframe tbody tr th:only-of-type {\n",
       "        vertical-align: middle;\n",
       "    }\n",
       "\n",
       "    .dataframe tbody tr th {\n",
       "        vertical-align: top;\n",
       "    }\n",
       "\n",
       "    .dataframe thead th {\n",
       "        text-align: right;\n",
       "    }\n",
       "</style>\n",
       "<table border=\"1\" class=\"dataframe\">\n",
       "  <thead>\n",
       "    <tr style=\"text-align: right;\">\n",
       "      <th></th>\n",
       "      <th>Prev Close</th>\n",
       "      <th>Open_x</th>\n",
       "      <th>High</th>\n",
       "      <th>Low</th>\n",
       "      <th>Last</th>\n",
       "      <th>Close</th>\n",
       "      <th>VWAP</th>\n",
       "      <th>Volume</th>\n",
       "      <th>Turnover</th>\n",
       "      <th>Final_High_Low</th>\n",
       "      <th>Nifty_Price_Difference %</th>\n",
       "      <th>Open_y</th>\n",
       "    </tr>\n",
       "  </thead>\n",
       "  <tbody>\n",
       "    <tr>\n",
       "      <th>1</th>\n",
       "      <td>170.00</td>\n",
       "      <td>182.00</td>\n",
       "      <td>183.45</td>\n",
       "      <td>171.00</td>\n",
       "      <td>174.00</td>\n",
       "      <td>173.80</td>\n",
       "      <td>174.99</td>\n",
       "      <td>168710</td>\n",
       "      <td>2.952261e+12</td>\n",
       "      <td>195.599501</td>\n",
       "      <td>2.778475</td>\n",
       "      <td>1594.40</td>\n",
       "    </tr>\n",
       "    <tr>\n",
       "      <th>2</th>\n",
       "      <td>173.80</td>\n",
       "      <td>170.00</td>\n",
       "      <td>173.90</td>\n",
       "      <td>165.00</td>\n",
       "      <td>168.00</td>\n",
       "      <td>166.95</td>\n",
       "      <td>169.20</td>\n",
       "      <td>159820</td>\n",
       "      <td>2.704094e+12</td>\n",
       "      <td>175.069932</td>\n",
       "      <td>-2.370683</td>\n",
       "      <td>1634.55</td>\n",
       "    </tr>\n",
       "    <tr>\n",
       "      <th>3</th>\n",
       "      <td>166.95</td>\n",
       "      <td>168.00</td>\n",
       "      <td>170.00</td>\n",
       "      <td>165.30</td>\n",
       "      <td>168.95</td>\n",
       "      <td>168.30</td>\n",
       "      <td>168.44</td>\n",
       "      <td>85026</td>\n",
       "      <td>1.432166e+12</td>\n",
       "      <td>176.691425</td>\n",
       "      <td>1.366086</td>\n",
       "      <td>1595.80</td>\n",
       "    </tr>\n",
       "    <tr>\n",
       "      <th>4</th>\n",
       "      <td>168.30</td>\n",
       "      <td>162.15</td>\n",
       "      <td>171.00</td>\n",
       "      <td>162.15</td>\n",
       "      <td>170.75</td>\n",
       "      <td>168.35</td>\n",
       "      <td>166.79</td>\n",
       "      <td>85144</td>\n",
       "      <td>1.420158e+12</td>\n",
       "      <td>166.539573</td>\n",
       "      <td>-0.204132</td>\n",
       "      <td>1616.60</td>\n",
       "    </tr>\n",
       "    <tr>\n",
       "      <th>5</th>\n",
       "      <td>168.35</td>\n",
       "      <td>172.90</td>\n",
       "      <td>179.50</td>\n",
       "      <td>165.00</td>\n",
       "      <td>166.30</td>\n",
       "      <td>165.90</td>\n",
       "      <td>167.79</td>\n",
       "      <td>100434</td>\n",
       "      <td>1.685217e+12</td>\n",
       "      <td>176.261223</td>\n",
       "      <td>1.070776</td>\n",
       "      <td>1615.65</td>\n",
       "    </tr>\n",
       "  </tbody>\n",
       "</table>\n",
       "</div>"
      ],
      "text/plain": [
       "   Prev Close  Open_x    High     Low    Last   Close    VWAP  Volume  \\\n",
       "1      170.00  182.00  183.45  171.00  174.00  173.80  174.99  168710   \n",
       "2      173.80  170.00  173.90  165.00  168.00  166.95  169.20  159820   \n",
       "3      166.95  168.00  170.00  165.30  168.95  168.30  168.44   85026   \n",
       "4      168.30  162.15  171.00  162.15  170.75  168.35  166.79   85144   \n",
       "5      168.35  172.90  179.50  165.00  166.30  165.90  167.79  100434   \n",
       "\n",
       "       Turnover  Final_High_Low  Nifty_Price_Difference %   Open_y  \n",
       "1  2.952261e+12      195.599501                  2.778475  1594.40  \n",
       "2  2.704094e+12      175.069932                 -2.370683  1634.55  \n",
       "3  1.432166e+12      176.691425                  1.366086  1595.80  \n",
       "4  1.420158e+12      166.539573                 -0.204132  1616.60  \n",
       "5  1.685217e+12      176.261223                  1.070776  1615.65  "
      ]
     },
     "execution_count": 16,
     "metadata": {},
     "output_type": "execute_result"
    }
   ],
   "source": [
    "hdfc.head()"
   ]
  },
  {
   "cell_type": "code",
   "execution_count": 17,
   "id": "8c5fcc23",
   "metadata": {},
   "outputs": [],
   "source": [
    "correlation=hdfc.corr()"
   ]
  },
  {
   "cell_type": "code",
   "execution_count": 18,
   "id": "ff53080c",
   "metadata": {},
   "outputs": [
    {
     "data": {
      "text/plain": [
       "Close                       1.000000\n",
       "Last                        0.999983\n",
       "VWAP                        0.999924\n",
       "High                        0.999746\n",
       "Low                         0.999705\n",
       "Open_x                      0.999509\n",
       "Final_High_Low              0.999240\n",
       "Prev Close                  0.998274\n",
       "Open_y                      0.688020\n",
       "Turnover                    0.298319\n",
       "Volume                      0.131119\n",
       "Nifty_Price_Difference %   -0.011389\n",
       "Name: Close, dtype: float64"
      ]
     },
     "execution_count": 18,
     "metadata": {},
     "output_type": "execute_result"
    }
   ],
   "source": [
    "correlation['Close'].sort_values(ascending=False)"
   ]
  },
  {
   "cell_type": "code",
   "execution_count": 19,
   "id": "997c2adf",
   "metadata": {},
   "outputs": [
    {
     "data": {
      "image/png": "[encoded data removed]",
      "text/plain": [
       "<Figure size 640x480 with 1 Axes>"
      ]
     },
     "metadata": {},
     "output_type": "display_data"
    }
   ],
   "source": [
    "plt.plot(hdfc.index, hdfc['Close'])\n",
    "plt.xlabel('Serial Number')\n",
    "plt.ylabel('Close Price')\n",
    "plt.title('Close Price vs Serial Number')\n",
    "plt.show()"
   ]
  },
  {
   "cell_type": "code",
   "execution_count": 20,
   "id": "543a612c",
   "metadata": {},
   "outputs": [],
   "source": [
    "# removing the redundant features and keeping only VWAP, Final_High_Low, Prev Close and Open-y(nifty open)\n",
    "\n",
    "columns_to_keep = ['VWAP', 'Final_High_Low', 'Prev Close', 'Open_y', 'Close']\n",
    "hdfc = hdfc[columns_to_keep]"
   ]
  },
  {
   "cell_type": "code",
   "execution_count": 21,
   "id": "c838f90e",
   "metadata": {},
   "outputs": [
    {
     "name": "stdout",
     "output_type": "stream",
     "text": [
      "     VWAP  Final_High_Low  Prev Close   Open_y   Close\n",
      "1  174.99      195.599501      170.00  1594.40  173.80\n",
      "2  169.20      175.069932      173.80  1634.55  166.95\n",
      "3  168.44      176.691425      166.95  1595.80  168.30\n",
      "4  166.79      166.539573      168.30  1616.60  168.35\n",
      "5  167.79      176.261223      168.35  1615.65  165.90\n"
     ]
    }
   ],
   "source": [
    "print(hdfc.head())"
   ]
  },
  {
   "cell_type": "code",
   "execution_count": 22,
   "id": "d16325a0",
   "metadata": {},
   "outputs": [],
   "source": [
    "from sklearn.linear_model import LinearRegression\n",
    "from sklearn.metrics import mean_absolute_error\n",
    "from sklearn.metrics import mean_squared_log_error\n",
    "\n",
    "\n",
    "from sklearn.model_selection import train_test_split\n",
    "from sklearn.metrics import mean_squared_error, r2_score"
   ]
  },
  {
   "cell_type": "code",
   "execution_count": 23,
   "id": "8b52d9d8",
   "metadata": {},
   "outputs": [],
   "source": [
    "features = hdfc[['VWAP', 'Final_High_Low', 'Prev Close', 'Open_y']]\n",
    "label = hdfc['Close']"
   ]
  },
  {
   "cell_type": "code",
   "execution_count": 24,
   "id": "e7fb1be4",
   "metadata": {},
   "outputs": [],
   "source": [
    "X_train, X_test, y_train, y_test = train_test_split(features, label, test_size=0.2, random_state=42)"
   ]
  },
  {
   "cell_type": "code",
   "execution_count": 25,
   "id": "80b4d4de",
   "metadata": {
    "scrolled": false
   },
   "outputs": [
    {
     "data": {
      "text/html": [
       "<style>#sk-container-id-1 {color: black;}#sk-container-id-1 pre{padding: 0;}#sk-container-id-1 div.sk-toggleable {background-color: white;}#sk-container-id-1 label.sk-toggleable__label {cursor: pointer;display: block;width: 100%;margin-bottom: 0;padding: 0.3em;box-sizing: border-box;text-align: center;}#sk-container-id-1 label.sk-toggleable__label-arrow:before {content: \"▸\";float: left;margin-right: 0.25em;color: #696969;}#sk-container-id-1 label.sk-toggleable__label-arrow:hover:before {color: black;}#sk-container-id-1 div.sk-estimator:hover label.sk-toggleable__label-arrow:before {color: black;}#sk-container-id-1 div.sk-toggleable__content {max-height: 0;max-width: 0;overflow: hidden;text-align: left;background-color: #f0f8ff;}#sk-container-id-1 div.sk-toggleable__content pre {margin: 0.2em;color: black;border-radius: 0.25em;background-color: #f0f8ff;}#sk-container-id-1 input.sk-toggleable__control:checked~div.sk-toggleable__content {max-height: 200px;max-width: 100%;overflow: auto;}#sk-container-id-1 input.sk-toggleable__control:checked~label.sk-toggleable__label-arrow:before {content: \"▾\";}#sk-container-id-1 div.sk-estimator input.sk-toggleable__control:checked~label.sk-toggleable__label {background-color: #d4ebff;}#sk-container-id-1 div.sk-label input.sk-toggleable__control:checked~label.sk-toggleable__label {background-color: #d4ebff;}#sk-container-id-1 input.sk-hidden--visually {border: 0;clip: rect(1px 1px 1px 1px);clip: rect(1px, 1px, 1px, 1px);height: 1px;margin: -1px;overflow: hidden;padding: 0;position: absolute;width: 1px;}#sk-container-id-1 div.sk-estimator {font-family: monospace;background-color: #f0f8ff;border: 1px dotted black;border-radius: 0.25em;box-sizing: border-box;margin-bottom: 0.5em;}#sk-container-id-1 div.sk-estimator:hover {background-color: #d4ebff;}#sk-container-id-1 div.sk-parallel-item::after {content: \"\";width: 100%;border-bottom: 1px solid gray;flex-grow: 1;}#sk-container-id-1 div.sk-label:hover label.sk-toggleable__label {background-color: #d4ebff;}#sk-container-id-1 div.sk-serial::before {content: \"\";position: absolute;border-left: 1px solid gray;box-sizing: border-box;top: 0;bottom: 0;left: 50%;z-index: 0;}#sk-container-id-1 div.sk-serial {display: flex;flex-direction: column;align-items: center;background-color: white;padding-right: 0.2em;padding-left: 0.2em;position: relative;}#sk-container-id-1 div.sk-item {position: relative;z-index: 1;}#sk-container-id-1 div.sk-parallel {display: flex;align-items: stretch;justify-content: center;background-color: white;position: relative;}#sk-container-id-1 div.sk-item::before, #sk-container-id-1 div.sk-parallel-item::before {content: \"\";position: absolute;border-left: 1px solid gray;box-sizing: border-box;top: 0;bottom: 0;left: 50%;z-index: -1;}#sk-container-id-1 div.sk-parallel-item {display: flex;flex-direction: column;z-index: 1;position: relative;background-color: white;}#sk-container-id-1 div.sk-parallel-item:first-child::after {align-self: flex-end;width: 50%;}#sk-container-id-1 div.sk-parallel-item:last-child::after {align-self: flex-start;width: 50%;}#sk-container-id-1 div.sk-parallel-item:only-child::after {width: 0;}#sk-container-id-1 div.sk-dashed-wrapped {border: 1px dashed gray;margin: 0 0.4em 0.5em 0.4em;box-sizing: border-box;padding-bottom: 0.4em;background-color: white;}#sk-container-id-1 div.sk-label label {font-family: monospace;font-weight: bold;display: inline-block;line-height: 1.2em;}#sk-container-id-1 div.sk-label-container {text-align: center;}#sk-container-id-1 div.sk-container {/* jupyter's `normalize.less` sets `[hidden] { display: none; }` but bootstrap.min.css set `[hidden] { display: none !important; }` so we also need the `!important` here to be able to override the default hidden behavior on the sphinx rendered scikit-learn.org. See: https://github.com/scikit-learn/scikit-learn/issues/21755 */display: inline-block !important;position: relative;}#sk-container-id-1 div.sk-text-repr-fallback {display: none;}</style><div id=\"sk-container-id-1\" class=\"sk-top-container\"><div class=\"sk-text-repr-fallback\"><pre>LinearRegression()</pre><b>In a Jupyter environment, please rerun this cell to show the HTML representation or trust the notebook. <br />On GitHub, the HTML representation is unable to render, please try loading this page with nbviewer.org.</b></div><div class=\"sk-container\" hidden><div class=\"sk-item\"><div class=\"sk-estimator sk-toggleable\"><input class=\"sk-toggleable__control sk-hidden--visually\" id=\"sk-estimator-id-1\" type=\"checkbox\" checked><label for=\"sk-estimator-id-1\" class=\"sk-toggleable__label sk-toggleable__label-arrow\">LinearRegression</label><div class=\"sk-toggleable__content\"><pre>LinearRegression()</pre></div></div></div></div></div>"
      ],
      "text/plain": [
       "LinearRegression()"
      ]
     },
     "execution_count": 25,
     "metadata": {},
     "output_type": "execute_result"
    }
   ],
   "source": [
    "model = LinearRegression()\n",
    "model.fit(X_train, y_train)"
   ]
  },
  {
   "cell_type": "code",
   "execution_count": 26,
   "id": "842325b7",
   "metadata": {},
   "outputs": [],
   "source": [
    "mean_closing_prices_test = np.mean(y_test)"
   ]
  },
  {
   "cell_type": "code",
   "execution_count": 29,
   "id": "38bf2337",
   "metadata": {},
   "outputs": [
    {
     "name": "stdout",
     "output_type": "stream",
     "text": [
      "Mean of Closing Prices (Test Data): 986.1114985862395\n",
      "\n",
      "Mean Squared Error: 50.84699991884929\n",
      "Mean Absolute Error (MAE): 4.456700227680598\n",
      "Mean Squared Logarithmic Error (MSLE): 6.569705685104429e-05\n",
      "R-squared: 0.9998743429467417\n"
     ]
    }
   ],
   "source": [
    "predictions = model.predict(X_test)\n",
    "\n",
    "# Evaluate the model\n",
    "mse = mean_squared_error(y_test, predictions)\n",
    "mae = mean_absolute_error(y_test, predictions)\n",
    "msle = mean_squared_log_error(y_test, predictions)\n",
    "\n",
    "r2 = r2_score(y_test, predictions)\n",
    "\n",
    "print(\"Mean of Closing Prices (Test Data):\", mean_closing_prices_test)\n",
    "\n",
    "print()\n",
    "\n",
    "print(f'Mean Squared Error: {mse}')\n",
    "print(f'Mean Absolute Error (MAE): {mae}')\n",
    "print(f'Mean Squared Logarithmic Error (MSLE): {msle}')\n",
    "\n",
    "print(f'R-squared: {r2}')"
   ]
  },
  {
   "cell_type": "code",
   "execution_count": 30,
   "id": "05d38c76",
   "metadata": {
    "scrolled": true
   },
   "outputs": [
    {
     "name": "stdout",
     "output_type": "stream",
     "text": [
      "Prediction for Input Set 1: 322.2155550624248\n",
      "Prediction for Input Set 2: 343.68299214112403\n",
      "Prediction for Input Set 3: 300.7481179837256\n"
     ]
    },
    {
     "name": "stderr",
     "output_type": "stream",
     "text": [
      "/Library/Frameworks/Python.framework/Versions/3.11/lib/python3.11/site-packages/sklearn/base.py:465: UserWarning: X does not have valid feature names, but LinearRegression was fitted with feature names\n",
      "  warnings.warn(\n",
      "/Library/Frameworks/Python.framework/Versions/3.11/lib/python3.11/site-packages/sklearn/base.py:465: UserWarning: X does not have valid feature names, but LinearRegression was fitted with feature names\n",
      "  warnings.warn(\n",
      "/Library/Frameworks/Python.framework/Versions/3.11/lib/python3.11/site-packages/sklearn/base.py:465: UserWarning: X does not have valid feature names, but LinearRegression was fitted with feature names\n",
      "  warnings.warn(\n"
     ]
    }
   ],
   "source": [
    "#Finally using the model to predict \"Close\" stock price by giving \n",
    "#(VWAP, Final High-Low, Previous Close, NIFTY Opening Price)\n",
    "\n",
    "# Input Sets\n",
    "input_set_1 = [[300, 10, 290, 15000]]\n",
    "input_set_2 = [[320, 12, 310, 15200]]\n",
    "input_set_3 = [[280, 8, 270, 14800]]\n",
    "\n",
    "# Predict close prices\n",
    "prediction_1 = model.predict(input_set_1)\n",
    "prediction_2 = model.predict(input_set_2)\n",
    "prediction_3 = model.predict(input_set_3)\n",
    "\n",
    "# Display predictions\n",
    "print(\"Prediction for Input Set 1:\", prediction_1[0])\n",
    "print(\"Prediction for Input Set 2:\", prediction_2[0])\n",
    "print(\"Prediction for Input Set 3:\", prediction_3[0])"
   ]
  }
 ],
 "metadata": {
  "kernelspec": {
   "display_name": "Python 3 (ipykernel)",
   "language": "python",
   "name": "python3"
  },
  "language_info": {
   "codemirror_mode": {
    "name": "ipython",
    "version": 3
   },
   "file_extension": ".py",
   "mimetype": "text/x-python",
   "name": "python",
   "nbconvert_exporter": "python",
   "pygments_lexer": "ipython3",
   "version": "3.11.4"
  }
 },
 "nbformat": 4,
 "nbformat_minor": 5
}
